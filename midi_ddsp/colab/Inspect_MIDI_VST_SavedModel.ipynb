{
 "cells": [
  {
   "cell_type": "code",
   "execution_count": 2,
   "metadata": {
    "collapsed": true
   },
   "outputs": [],
   "source": [
    "def print_dict(d):\n",
    "    for k, v in d.items():\n",
    "        print(f\"\\t'{k}': {v}\")\n",
    "\n",
    "def print_dict2(d):\n",
    "    for detail in d:\n",
    "        print()\n",
    "\n",
    "        i = 0\n",
    "        for k, v in detail.items():\n",
    "            if i == 0:\n",
    "                print(f\"\\t'{k}': {v}\")\n",
    "            else:\n",
    "                print(f\"\\t\\t'{k}': {v}\")"
   ]
  },
  {
   "cell_type": "code",
   "execution_count": 3,
   "outputs": [
    {
     "name": "stdout",
     "output_type": "stream",
     "text": [
      "module_path=E:\\Code\\Projects\\TimbreTransfer\\midi-ddsp-main\n",
      "do not appending E:\\Code\\Projects\\TimbreTransfer\\midi-ddsp-main to sys.path\n",
      "module_path=E:\\Code\\Projects\\TimbreTransfer\\ddsp-playground-2\n",
      "appending E:\\Code\\Projects\\TimbreTransfer\\ddsp-playground-2 to sys.path\n"
     ]
    },
    {
     "name": "stderr",
     "output_type": "stream",
     "text": [
      "E:\\Code\\Projects\\TimbreTransfer\\midi-ddsp-main\\midi_ddsp\\midi_ddsp_synthesize.py:27: TqdmExperimentalWarning: Using `tqdm.autonotebook.tqdm` in notebook mode. Use `tqdm.tqdm` instead to force console mode (e.g. in jupyter console)\n",
      "  from tqdm.autonotebook import tqdm\n"
     ]
    },
    {
     "name": "stdout",
     "output_type": "stream",
     "text": [
      "nn.py sys.path=['E:\\\\Code\\\\Software\\\\PyCharm 2021.3.2\\\\plugins\\\\python\\\\helpers-pro\\\\jupyter_debug', 'E:\\\\Code\\\\Software\\\\PyCharm 2021.3.2\\\\plugins\\\\python\\\\helpers\\\\pydev', 'E:\\\\Code\\\\Projects\\\\TimbreTransfer\\\\midi-ddsp-main\\\\midi_ddsp\\\\colab', 'E:\\\\Code\\\\Projects\\\\TimbreTransfer\\\\midi-ddsp-main', 'E:\\\\Code\\\\Software\\\\Python38\\\\python38.zip', 'E:\\\\Code\\\\Software\\\\Python38\\\\DLLs', 'E:\\\\Code\\\\Software\\\\Python38\\\\lib', 'E:\\\\Code\\\\Software\\\\Python38', 'e:\\\\code\\\\projects\\\\coursework\\\\ddsp-playground\\\\ddsp-playground-2', '', 'e:\\\\code\\\\projects\\\\coursework\\\\ddsp-playground\\\\ddsp-playground-2\\\\lib\\\\site-packages', 'e:\\\\code\\\\projects\\\\coursework\\\\ddsp-playground\\\\ddsp-playground-2\\\\lib\\\\site-packages\\\\win32', 'e:\\\\code\\\\projects\\\\coursework\\\\ddsp-playground\\\\ddsp-playground-2\\\\lib\\\\site-packages\\\\win32\\\\lib', 'e:\\\\code\\\\projects\\\\coursework\\\\ddsp-playground\\\\ddsp-playground-2\\\\lib\\\\site-packages\\\\Pythonwin', 'E:\\\\Code\\\\Projects\\\\TimbreTransfer\\\\ddsp-playground-2', 'E:/Code/Projects/Coursework/ddsp-playground/ddsp-playground-2/Lib/site-packages']\n",
      "0\n"
     ]
    }
   ],
   "source": [
    "import os\n",
    "import platform\n",
    "import sys\n",
    "\n",
    "if platform.system() == 'Windows':\n",
    "    midi_ddsp_module_path = os.path.abspath(os.path.join('../../'))\n",
    "    ddsp_module_path = os.path.abspath(os.path.join('../../../ddsp-playground-2/'))\n",
    "else:\n",
    "    midi_ddsp_module_path = os.path.abspath(os.path.join('../../'))\n",
    "    ddsp_module_path = os.path.abspath(os.path.join('../../../ddsp/ddsp-playground-2/'))\n",
    "\n",
    "def apply_module_path(module_path):\n",
    "    print(f\"module_path={module_path}\")\n",
    "    if module_path not in sys.path:\n",
    "      sys.path.append(module_path)\n",
    "      print(f\"appending {module_path} to sys.path\")\n",
    "    else:\n",
    "      print(f\"do not appending {module_path} to sys.path\")\n",
    "\n",
    "apply_module_path(midi_ddsp_module_path)\n",
    "apply_module_path(ddsp_module_path)\n",
    "\n",
    "import sys\n",
    "if platform.system() != 'Windows':\n",
    "    sparsenet_module_path_abs = '/ssd003/home/burakovr/projects/vova/envs/main/lib/python3.8/site-packages/'\n",
    "    apply_module_path(sparsenet_module_path_abs)\n",
    "\n",
    "import midi_ddsp"
   ],
   "metadata": {
    "collapsed": false,
    "pycharm": {
     "name": "#%%\n"
    }
   }
  },
  {
   "cell_type": "code",
   "execution_count": 4,
   "outputs": [],
   "source": [
    "#  Copyright 2022 The MIDI-DDSP Authors.\n",
    "#  #\n",
    "#  Licensed under the Apache License, Version 2.0 (the \"License\");\n",
    "#  you may not use this file except in compliance with the License.\n",
    "#  You may obtain a copy of the License at\n",
    "#  #\n",
    "#      http://www.apache.org/licenses/LICENSE-2.0\n",
    "#  #\n",
    "#  Unless required by applicable law or agreed to in writing, software\n",
    "#  distributed under the License is distributed on an \"AS IS\" BASIS,\n",
    "#  WITHOUT WARRANTIES OR CONDITIONS OF ANY KIND, either express or implied.\n",
    "#  See the License for the specific language governing permissions and\n",
    "#  limitations under the License.\n",
    "\n",
    "\"\"\"Training code for Synthesis Generator.\"\"\"\n",
    "\n",
    "import tensorflow as tf\n",
    "import time\n",
    "import os\n",
    "import sys\n",
    "import logging\n",
    "import argparse\n",
    "import IPython\n",
    "\n",
    "from keras.utils.layer_utils import print_summary\n",
    "from livelossplot import PlotLosses\n",
    "\n",
    "from midi_ddsp.data_handling.get_dataset import get_dataset\n",
    "from midi_ddsp.utils.training_utils import print_hparams, set_seed, \\\n",
    "    save_results, str2bool\n",
    "from midi_ddsp.utils.summary_utils import write_tensorboard_audio\n",
    "#                          from midi_ddsp.hparams_synthesis_generator import hparams as hp\n",
    "from midi_ddsp.hparams_synthesis_generator import hparams_debug as hp\n",
    "from midi_ddsp.modules.recon_loss import ReconLossHelper\n",
    "from midi_ddsp.modules.gan_loss import GANLossHelper\n",
    "from midi_ddsp.modules.get_synthesis_generator import get_synthesis_generator, \\\n",
    "    get_fake_data_synthesis_generator\n",
    "from midi_ddsp.modules.discriminator import Discriminator\n",
    "from ddsp.colab.notebook_utils import play, specplot\n"
   ],
   "metadata": {
    "collapsed": false,
    "pycharm": {
     "name": "#%%\n"
    }
   }
  },
  {
   "cell_type": "code",
   "execution_count": 5,
   "outputs": [
    {
     "name": "stdout",
     "output_type": "stream",
     "text": [
      "2.9.3\n"
     ]
    }
   ],
   "source": [
    "print(tf.__version__)"
   ],
   "metadata": {
    "collapsed": false,
    "pycharm": {
     "name": "#%%\n"
    }
   }
  },
  {
   "cell_type": "code",
   "execution_count": 6,
   "outputs": [],
   "source": [
    "model_path = \"DDSP_VST_Trained_model/\""
   ],
   "metadata": {
    "collapsed": false,
    "pycharm": {
     "name": "#%%\n"
    }
   }
  },
  {
   "cell_type": "code",
   "execution_count": 7,
   "outputs": [
    {
     "ename": "KeyboardInterrupt",
     "evalue": "",
     "output_type": "error",
     "traceback": [
      "\u001B[1;31m---------------------------------------------------------------------------\u001B[0m",
      "\u001B[1;31mKeyboardInterrupt\u001B[0m                         Traceback (most recent call last)",
      "Cell \u001B[1;32mIn[7], line 3\u001B[0m\n\u001B[0;32m      1\u001B[0m \u001B[38;5;66;03m#import ddsp\u001B[39;00m\n\u001B[0;32m      2\u001B[0m \u001B[38;5;66;03m#from ddsp.training import get_inference_model\u001B[39;00m\n\u001B[1;32m----> 3\u001B[0m model \u001B[38;5;241m=\u001B[39m \u001B[43mtf\u001B[49m\u001B[38;5;241;43m.\u001B[39;49m\u001B[43msaved_model\u001B[49m\u001B[38;5;241;43m.\u001B[39;49m\u001B[43mload\u001B[49m\u001B[43m(\u001B[49m\u001B[43mmodel_path\u001B[49m\u001B[43m)\u001B[49m\n",
      "File \u001B[1;32me:\\code\\projects\\coursework\\ddsp-playground\\ddsp-playground-2\\lib\\site-packages\\tensorflow\\python\\saved_model\\load.py:782\u001B[0m, in \u001B[0;36mload\u001B[1;34m(export_dir, tags, options)\u001B[0m\n\u001B[0;32m    780\u001B[0m \u001B[38;5;28;01mif\u001B[39;00m \u001B[38;5;28misinstance\u001B[39m(export_dir, os\u001B[38;5;241m.\u001B[39mPathLike):\n\u001B[0;32m    781\u001B[0m   export_dir \u001B[38;5;241m=\u001B[39m os\u001B[38;5;241m.\u001B[39mfspath(export_dir)\n\u001B[1;32m--> 782\u001B[0m result \u001B[38;5;241m=\u001B[39m \u001B[43mload_partial\u001B[49m\u001B[43m(\u001B[49m\u001B[43mexport_dir\u001B[49m\u001B[43m,\u001B[49m\u001B[43m \u001B[49m\u001B[38;5;28;43;01mNone\u001B[39;49;00m\u001B[43m,\u001B[49m\u001B[43m \u001B[49m\u001B[43mtags\u001B[49m\u001B[43m,\u001B[49m\u001B[43m \u001B[49m\u001B[43moptions\u001B[49m\u001B[43m)\u001B[49m[\u001B[38;5;124m\"\u001B[39m\u001B[38;5;124mroot\u001B[39m\u001B[38;5;124m\"\u001B[39m]\n\u001B[0;32m    783\u001B[0m \u001B[38;5;28;01mreturn\u001B[39;00m result\n",
      "File \u001B[1;32me:\\code\\projects\\coursework\\ddsp-playground\\ddsp-playground-2\\lib\\site-packages\\tensorflow\\python\\saved_model\\load.py:912\u001B[0m, in \u001B[0;36mload_partial\u001B[1;34m(export_dir, filters, tags, options)\u001B[0m\n\u001B[0;32m    910\u001B[0m \u001B[38;5;28;01mwith\u001B[39;00m ops\u001B[38;5;241m.\u001B[39minit_scope():\n\u001B[0;32m    911\u001B[0m   \u001B[38;5;28;01mtry\u001B[39;00m:\n\u001B[1;32m--> 912\u001B[0m     loader \u001B[38;5;241m=\u001B[39m \u001B[43mLoader\u001B[49m\u001B[43m(\u001B[49m\u001B[43mobject_graph_proto\u001B[49m\u001B[43m,\u001B[49m\u001B[43m \u001B[49m\u001B[43msaved_model_proto\u001B[49m\u001B[43m,\u001B[49m\u001B[43m \u001B[49m\u001B[43mexport_dir\u001B[49m\u001B[43m,\u001B[49m\n\u001B[0;32m    913\u001B[0m \u001B[43m                    \u001B[49m\u001B[43mckpt_options\u001B[49m\u001B[43m,\u001B[49m\u001B[43m \u001B[49m\u001B[43moptions\u001B[49m\u001B[43m,\u001B[49m\u001B[43m \u001B[49m\u001B[43mfilters\u001B[49m\u001B[43m)\u001B[49m\n\u001B[0;32m    914\u001B[0m   \u001B[38;5;28;01mexcept\u001B[39;00m errors\u001B[38;5;241m.\u001B[39mNotFoundError \u001B[38;5;28;01mas\u001B[39;00m err:\n\u001B[0;32m    915\u001B[0m     \u001B[38;5;28;01mraise\u001B[39;00m \u001B[38;5;167;01mFileNotFoundError\u001B[39;00m(\n\u001B[0;32m    916\u001B[0m         \u001B[38;5;28mstr\u001B[39m(err) \u001B[38;5;241m+\u001B[39m \u001B[38;5;124m\"\u001B[39m\u001B[38;5;130;01m\\n\u001B[39;00m\u001B[38;5;124m You may be trying to load on a different device \u001B[39m\u001B[38;5;124m\"\u001B[39m\n\u001B[0;32m    917\u001B[0m         \u001B[38;5;124m\"\u001B[39m\u001B[38;5;124mfrom the computational device. Consider setting the \u001B[39m\u001B[38;5;124m\"\u001B[39m\n\u001B[0;32m    918\u001B[0m         \u001B[38;5;124m\"\u001B[39m\u001B[38;5;124m`experimental_io_device` option in `tf.saved_model.LoadOptions` \u001B[39m\u001B[38;5;124m\"\u001B[39m\n\u001B[0;32m    919\u001B[0m         \u001B[38;5;124m\"\u001B[39m\u001B[38;5;124mto the io_device such as \u001B[39m\u001B[38;5;124m'\u001B[39m\u001B[38;5;124m/job:localhost\u001B[39m\u001B[38;5;124m'\u001B[39m\u001B[38;5;124m.\u001B[39m\u001B[38;5;124m\"\u001B[39m)\n",
      "File \u001B[1;32me:\\code\\projects\\coursework\\ddsp-playground\\ddsp-playground-2\\lib\\site-packages\\tensorflow\\python\\saved_model\\load.py:151\u001B[0m, in \u001B[0;36mLoader.__init__\u001B[1;34m(self, object_graph_proto, saved_model_proto, export_dir, ckpt_options, save_options, filters)\u001B[0m\n\u001B[0;32m    148\u001B[0m \u001B[38;5;28mself\u001B[39m\u001B[38;5;241m.\u001B[39m_proto \u001B[38;5;241m=\u001B[39m object_graph_proto\n\u001B[0;32m    149\u001B[0m \u001B[38;5;28mself\u001B[39m\u001B[38;5;241m.\u001B[39m_export_dir \u001B[38;5;241m=\u001B[39m export_dir\n\u001B[0;32m    150\u001B[0m \u001B[38;5;28mself\u001B[39m\u001B[38;5;241m.\u001B[39m_concrete_functions \u001B[38;5;241m=\u001B[39m (\n\u001B[1;32m--> 151\u001B[0m     \u001B[43mfunction_deserialization\u001B[49m\u001B[38;5;241;43m.\u001B[39;49m\u001B[43mload_function_def_library\u001B[49m\u001B[43m(\u001B[49m\n\u001B[0;32m    152\u001B[0m \u001B[43m        \u001B[49m\u001B[43mlibrary\u001B[49m\u001B[38;5;241;43m=\u001B[39;49m\u001B[43mmeta_graph\u001B[49m\u001B[38;5;241;43m.\u001B[39;49m\u001B[43mgraph_def\u001B[49m\u001B[38;5;241;43m.\u001B[39;49m\u001B[43mlibrary\u001B[49m\u001B[43m,\u001B[49m\n\u001B[0;32m    153\u001B[0m \u001B[43m        \u001B[49m\u001B[43msaved_object_graph\u001B[49m\u001B[38;5;241;43m=\u001B[39;49m\u001B[38;5;28;43mself\u001B[39;49m\u001B[38;5;241;43m.\u001B[39;49m\u001B[43m_proto\u001B[49m\u001B[43m,\u001B[49m\n\u001B[0;32m    154\u001B[0m \u001B[43m        \u001B[49m\u001B[43mwrapper_function\u001B[49m\u001B[38;5;241;43m=\u001B[39;49m\u001B[43m_WrapperFunction\u001B[49m\u001B[43m)\u001B[49m)\n\u001B[0;32m    155\u001B[0m \u001B[38;5;66;03m# Store a set of all concrete functions that have been set up with\u001B[39;00m\n\u001B[0;32m    156\u001B[0m \u001B[38;5;66;03m# captures.\u001B[39;00m\n\u001B[0;32m    157\u001B[0m \u001B[38;5;28mself\u001B[39m\u001B[38;5;241m.\u001B[39m_restored_concrete_functions \u001B[38;5;241m=\u001B[39m \u001B[38;5;28mset\u001B[39m()\n",
      "File \u001B[1;32me:\\code\\projects\\coursework\\ddsp-playground\\ddsp-playground-2\\lib\\site-packages\\tensorflow\\python\\saved_model\\function_deserialization.py:409\u001B[0m, in \u001B[0;36mload_function_def_library\u001B[1;34m(library, saved_object_graph, load_shared_name_suffix, wrapper_function)\u001B[0m\n\u001B[0;32m    403\u001B[0m \u001B[38;5;66;03m# There is no need to copy all functions into the function def graph. It\u001B[39;00m\n\u001B[0;32m    404\u001B[0m \u001B[38;5;66;03m# leads to a O(n^2) increase of memory when importing functions and the\u001B[39;00m\n\u001B[0;32m    405\u001B[0m \u001B[38;5;66;03m# extra function definitions are a no-op since they already imported as a\u001B[39;00m\n\u001B[0;32m    406\u001B[0m \u001B[38;5;66;03m# function before and passed in explicitly (due to the topologic sort\u001B[39;00m\n\u001B[0;32m    407\u001B[0m \u001B[38;5;66;03m# import).\u001B[39;00m\n\u001B[0;32m    408\u001B[0m \u001B[38;5;28;01mwith\u001B[39;00m graph\u001B[38;5;241m.\u001B[39mas_default():\n\u001B[1;32m--> 409\u001B[0m   func_graph \u001B[38;5;241m=\u001B[39m \u001B[43mfunction_def_lib\u001B[49m\u001B[38;5;241;43m.\u001B[39;49m\u001B[43mfunction_def_to_graph\u001B[49m\u001B[43m(\u001B[49m\n\u001B[0;32m    410\u001B[0m \u001B[43m      \u001B[49m\u001B[43mfdef\u001B[49m\u001B[43m,\u001B[49m\n\u001B[0;32m    411\u001B[0m \u001B[43m      \u001B[49m\u001B[43mstructured_input_signature\u001B[49m\u001B[38;5;241;43m=\u001B[39;49m\u001B[43mstructured_input_signature\u001B[49m\u001B[43m,\u001B[49m\n\u001B[0;32m    412\u001B[0m \u001B[43m      \u001B[49m\u001B[43mstructured_outputs\u001B[49m\u001B[38;5;241;43m=\u001B[39;49m\u001B[43mstructured_outputs\u001B[49m\u001B[43m)\u001B[49m\n\u001B[0;32m    413\u001B[0m \u001B[38;5;66;03m# Restores gradients for function-call ops (not the same as ops that use\u001B[39;00m\n\u001B[0;32m    414\u001B[0m \u001B[38;5;66;03m# custom gradients)\u001B[39;00m\n\u001B[0;32m    415\u001B[0m _restore_gradient_functions(func_graph, renamed_functions, loaded_gradients)\n",
      "File \u001B[1;32me:\\code\\projects\\coursework\\ddsp-playground\\ddsp-playground-2\\lib\\site-packages\\tensorflow\\python\\framework\\function_def_to_graph.py:87\u001B[0m, in \u001B[0;36mfunction_def_to_graph\u001B[1;34m(fdef, structured_input_signature, structured_outputs, input_shapes)\u001B[0m\n\u001B[0;32m     82\u001B[0m graph_def, nested_to_flat_tensor_name \u001B[38;5;241m=\u001B[39m function_def_to_graph_def(\n\u001B[0;32m     83\u001B[0m     fdef, input_shapes)\n\u001B[0;32m     85\u001B[0m \u001B[38;5;28;01mwith\u001B[39;00m func_graph\u001B[38;5;241m.\u001B[39mas_default():\n\u001B[0;32m     86\u001B[0m   \u001B[38;5;66;03m# Add all function nodes to the graph.\u001B[39;00m\n\u001B[1;32m---> 87\u001B[0m   \u001B[43mimporter\u001B[49m\u001B[38;5;241;43m.\u001B[39;49m\u001B[43mimport_graph_def_for_function\u001B[49m\u001B[43m(\u001B[49m\u001B[43mgraph_def\u001B[49m\u001B[43m,\u001B[49m\u001B[43m \u001B[49m\u001B[43mname\u001B[49m\u001B[38;5;241;43m=\u001B[39;49m\u001B[38;5;124;43m\"\u001B[39;49m\u001B[38;5;124;43m\"\u001B[39;49m\u001B[43m)\u001B[49m\n\u001B[0;32m     89\u001B[0m   \u001B[38;5;66;03m# Initialize fields specific to FuncGraph.\u001B[39;00m\n\u001B[0;32m     90\u001B[0m \n\u001B[0;32m     91\u001B[0m   \u001B[38;5;66;03m# inputs\u001B[39;00m\n\u001B[0;32m     92\u001B[0m   input_tensor_names \u001B[38;5;241m=\u001B[39m [\n\u001B[0;32m     93\u001B[0m       nested_to_flat_tensor_name[arg\u001B[38;5;241m.\u001B[39mname] \u001B[38;5;28;01mfor\u001B[39;00m arg \u001B[38;5;129;01min\u001B[39;00m fdef\u001B[38;5;241m.\u001B[39msignature\u001B[38;5;241m.\u001B[39minput_arg\n\u001B[0;32m     94\u001B[0m   ]\n",
      "File \u001B[1;32me:\\code\\projects\\coursework\\ddsp-playground\\ddsp-playground-2\\lib\\site-packages\\tensorflow\\python\\framework\\importer.py:414\u001B[0m, in \u001B[0;36mimport_graph_def_for_function\u001B[1;34m(graph_def, name)\u001B[0m\n\u001B[0;32m    411\u001B[0m \u001B[38;5;28;01mdef\u001B[39;00m \u001B[38;5;21mimport_graph_def_for_function\u001B[39m(  \u001B[38;5;66;03m# pylint: disable=invalid-name\u001B[39;00m\n\u001B[0;32m    412\u001B[0m     graph_def, name\u001B[38;5;241m=\u001B[39m\u001B[38;5;28;01mNone\u001B[39;00m):\n\u001B[0;32m    413\u001B[0m \u001B[38;5;250m  \u001B[39m\u001B[38;5;124;03m\"\"\"Like import_graph_def but does not validate colocation constraints.\"\"\"\u001B[39;00m\n\u001B[1;32m--> 414\u001B[0m   \u001B[38;5;28;01mreturn\u001B[39;00m \u001B[43m_import_graph_def_internal\u001B[49m\u001B[43m(\u001B[49m\n\u001B[0;32m    415\u001B[0m \u001B[43m      \u001B[49m\u001B[43mgraph_def\u001B[49m\u001B[43m,\u001B[49m\u001B[43m \u001B[49m\u001B[43mvalidate_colocation_constraints\u001B[49m\u001B[38;5;241;43m=\u001B[39;49m\u001B[38;5;28;43;01mFalse\u001B[39;49;00m\u001B[43m,\u001B[49m\u001B[43m \u001B[49m\u001B[43mname\u001B[49m\u001B[38;5;241;43m=\u001B[39;49m\u001B[43mname\u001B[49m\u001B[43m)\u001B[49m\n",
      "File \u001B[1;32me:\\code\\projects\\coursework\\ddsp-playground\\ddsp-playground-2\\lib\\site-packages\\tensorflow\\python\\framework\\importer.py:516\u001B[0m, in \u001B[0;36m_import_graph_def_internal\u001B[1;34m(graph_def, input_map, return_elements, validate_colocation_constraints, name, producer_op_list)\u001B[0m\n\u001B[0;32m    504\u001B[0m       \u001B[38;5;28;01mraise\u001B[39;00m \u001B[38;5;167;01mValueError\u001B[39;00m(\u001B[38;5;28mstr\u001B[39m(e))\n\u001B[0;32m    506\u001B[0m   \u001B[38;5;66;03m# Create _DefinedFunctions for any imported functions.\u001B[39;00m\n\u001B[0;32m    507\u001B[0m   \u001B[38;5;66;03m#\u001B[39;00m\n\u001B[0;32m    508\u001B[0m   \u001B[38;5;66;03m# We do this by creating _DefinedFunctions directly from `graph_def`, and\u001B[39;00m\n\u001B[1;32m   (...)\u001B[0m\n\u001B[0;32m    513\u001B[0m   \u001B[38;5;66;03m# TODO(skyewm): fetch the TF_Functions directly from the TF_Graph\u001B[39;00m\n\u001B[0;32m    514\u001B[0m   \u001B[38;5;66;03m# TODO(skyewm): avoid sending serialized FunctionDefs back to the TF_Graph\u001B[39;00m\n\u001B[1;32m--> 516\u001B[0m   \u001B[43m_ProcessNewOps\u001B[49m\u001B[43m(\u001B[49m\u001B[43mgraph\u001B[49m\u001B[43m)\u001B[49m\n\u001B[0;32m    518\u001B[0m \u001B[38;5;28;01mif\u001B[39;00m graph_def\u001B[38;5;241m.\u001B[39mlibrary \u001B[38;5;129;01mand\u001B[39;00m graph_def\u001B[38;5;241m.\u001B[39mlibrary\u001B[38;5;241m.\u001B[39mfunction:\n\u001B[0;32m    519\u001B[0m   functions \u001B[38;5;241m=\u001B[39m function\u001B[38;5;241m.\u001B[39mfrom_library(graph_def\u001B[38;5;241m.\u001B[39mlibrary)\n",
      "File \u001B[1;32me:\\code\\projects\\coursework\\ddsp-playground\\ddsp-playground-2\\lib\\site-packages\\tensorflow\\python\\framework\\importer.py:250\u001B[0m, in \u001B[0;36m_ProcessNewOps\u001B[1;34m(graph)\u001B[0m\n\u001B[0;32m    248\u001B[0m original_device \u001B[38;5;241m=\u001B[39m new_op\u001B[38;5;241m.\u001B[39mdevice\n\u001B[0;32m    249\u001B[0m new_op\u001B[38;5;241m.\u001B[39m_set_device(\u001B[38;5;124m'\u001B[39m\u001B[38;5;124m'\u001B[39m)  \u001B[38;5;66;03m# pylint: disable=protected-access\u001B[39;00m\n\u001B[1;32m--> 250\u001B[0m colocation_names \u001B[38;5;241m=\u001B[39m \u001B[43m_GetColocationNames\u001B[49m\u001B[43m(\u001B[49m\u001B[43mnew_op\u001B[49m\u001B[43m)\u001B[49m\n\u001B[0;32m    251\u001B[0m \u001B[38;5;28;01mif\u001B[39;00m colocation_names:\n\u001B[0;32m    252\u001B[0m   colocation_pairs[new_op] \u001B[38;5;241m=\u001B[39m colocation_names\n",
      "File \u001B[1;32me:\\code\\projects\\coursework\\ddsp-playground\\ddsp-playground-2\\lib\\site-packages\\tensorflow\\python\\framework\\importer.py:297\u001B[0m, in \u001B[0;36m_GetColocationNames\u001B[1;34m(op)\u001B[0m\n\u001B[0;32m    295\u001B[0m colocation_names \u001B[38;5;241m=\u001B[39m []\n\u001B[0;32m    296\u001B[0m \u001B[38;5;28;01mtry\u001B[39;00m:\n\u001B[1;32m--> 297\u001B[0m   class_values \u001B[38;5;241m=\u001B[39m \u001B[43mop\u001B[49m\u001B[38;5;241;43m.\u001B[39;49m\u001B[43mget_attr\u001B[49m\u001B[43m(\u001B[49m\u001B[38;5;124;43m'\u001B[39;49m\u001B[38;5;124;43m_class\u001B[39;49m\u001B[38;5;124;43m'\u001B[39;49m\u001B[43m)\u001B[49m\n\u001B[0;32m    298\u001B[0m \u001B[38;5;28;01mexcept\u001B[39;00m \u001B[38;5;167;01mValueError\u001B[39;00m:\n\u001B[0;32m    299\u001B[0m   \u001B[38;5;66;03m# No _class attr\u001B[39;00m\n\u001B[0;32m    300\u001B[0m   \u001B[38;5;28;01mreturn\u001B[39;00m\n",
      "File \u001B[1;32me:\\code\\projects\\coursework\\ddsp-playground\\ddsp-playground-2\\lib\\site-packages\\tensorflow\\python\\framework\\ops.py:2647\u001B[0m, in \u001B[0;36mOperation.get_attr\u001B[1;34m(self, name)\u001B[0m\n\u001B[0;32m   2645\u001B[0m fields \u001B[38;5;241m=\u001B[39m (\u001B[38;5;124m\"\u001B[39m\u001B[38;5;124ms\u001B[39m\u001B[38;5;124m\"\u001B[39m, \u001B[38;5;124m\"\u001B[39m\u001B[38;5;124mi\u001B[39m\u001B[38;5;124m\"\u001B[39m, \u001B[38;5;124m\"\u001B[39m\u001B[38;5;124mf\u001B[39m\u001B[38;5;124m\"\u001B[39m, \u001B[38;5;124m\"\u001B[39m\u001B[38;5;124mb\u001B[39m\u001B[38;5;124m\"\u001B[39m, \u001B[38;5;124m\"\u001B[39m\u001B[38;5;124mtype\u001B[39m\u001B[38;5;124m\"\u001B[39m, \u001B[38;5;124m\"\u001B[39m\u001B[38;5;124mshape\u001B[39m\u001B[38;5;124m\"\u001B[39m, \u001B[38;5;124m\"\u001B[39m\u001B[38;5;124mtensor\u001B[39m\u001B[38;5;124m\"\u001B[39m, \u001B[38;5;124m\"\u001B[39m\u001B[38;5;124mfunc\u001B[39m\u001B[38;5;124m\"\u001B[39m)\n\u001B[0;32m   2646\u001B[0m \u001B[38;5;28;01mtry\u001B[39;00m:\n\u001B[1;32m-> 2647\u001B[0m   \u001B[38;5;28;01mwith\u001B[39;00m \u001B[43mc_api_util\u001B[49m\u001B[38;5;241;43m.\u001B[39;49m\u001B[43mtf_buffer\u001B[49m\u001B[43m(\u001B[49m\u001B[43m)\u001B[49m \u001B[38;5;28;01mas\u001B[39;00m buf:\n\u001B[0;32m   2648\u001B[0m     pywrap_tf_session\u001B[38;5;241m.\u001B[39mTF_OperationGetAttrValueProto(\u001B[38;5;28mself\u001B[39m\u001B[38;5;241m.\u001B[39m_c_op, name, buf)\n\u001B[0;32m   2649\u001B[0m     data \u001B[38;5;241m=\u001B[39m pywrap_tf_session\u001B[38;5;241m.\u001B[39mTF_GetBuffer(buf)\n",
      "File \u001B[1;32mE:\\Code\\Software\\Python38\\lib\\contextlib.py:240\u001B[0m, in \u001B[0;36mcontextmanager.<locals>.helper\u001B[1;34m(*args, **kwds)\u001B[0m\n\u001B[0;32m    238\u001B[0m \u001B[38;5;129m@wraps\u001B[39m(func)\n\u001B[0;32m    239\u001B[0m \u001B[38;5;28;01mdef\u001B[39;00m \u001B[38;5;21mhelper\u001B[39m(\u001B[38;5;241m*\u001B[39margs, \u001B[38;5;241m*\u001B[39m\u001B[38;5;241m*\u001B[39mkwds):\n\u001B[1;32m--> 240\u001B[0m     \u001B[38;5;28;01mreturn\u001B[39;00m \u001B[43m_GeneratorContextManager\u001B[49m(func, args, kwds)\n",
      "\u001B[1;31mKeyboardInterrupt\u001B[0m: "
     ]
    }
   ],
   "source": [
    "#import ddsp\n",
    "#from ddsp.training import get_inference_model\n",
    "model = tf.saved_model.load(model_path)"
   ],
   "metadata": {
    "collapsed": false,
    "pycharm": {
     "name": "#%%\n"
    }
   }
  },
  {
   "cell_type": "code",
   "execution_count": 17,
   "outputs": [
    {
     "name": "stdout",
     "output_type": "stream",
     "text": [
      "KeysView(_SignatureMap({'call': <ConcreteFunction signature_wrapper(*, state, pw_scaled, f0_scaled) at 0x20AE34046D0>}))\n",
      "ConcreteFunction signature_wrapper(*, state, pw_scaled, f0_scaled)\n",
      "  Args:\n",
      "    f0_scaled: float32 Tensor, shape=(1,)\n",
      "    pw_scaled: float32 Tensor, shape=(1,)\n",
      "    state: float32 Tensor, shape=(512,)\n",
      "  Returns:\n",
      "    {'output_0': <1>, 'output_1': <2>, 'output_2': <3>, 'output_3': <4>}\n",
      "      <1>: float32 Tensor, shape=(1,)\n",
      "      <2>: float32 Tensor, shape=(60,)\n",
      "      <3>: float32 Tensor, shape=(65,)\n",
      "      <4>: float32 Tensor, shape=(512,)\n"
     ]
    },
    {
     "ename": "KeyError",
     "evalue": "'input_1'",
     "output_type": "error",
     "traceback": [
      "\u001B[1;31m---------------------------------------------------------------------------\u001B[0m",
      "\u001B[1;31mKeyError\u001B[0m                                  Traceback (most recent call last)",
      "Cell \u001B[1;32mIn[17], line 8\u001B[0m\n\u001B[0;32m      5\u001B[0m \u001B[38;5;28mprint\u001B[39m(input_signature)\n\u001B[0;32m      7\u001B[0m \u001B[38;5;66;03m# Get the input shape\u001B[39;00m\n\u001B[1;32m----> 8\u001B[0m input_shape \u001B[38;5;241m=\u001B[39m \u001B[43minput_signature\u001B[49m\u001B[38;5;241;43m.\u001B[39;49m\u001B[43mstructured_input_signature\u001B[49m\u001B[43m[\u001B[49m\u001B[38;5;241;43m1\u001B[39;49m\u001B[43m]\u001B[49m\u001B[43m[\u001B[49m\u001B[38;5;124;43m'\u001B[39;49m\u001B[38;5;124;43minput_1\u001B[39;49m\u001B[38;5;124;43m'\u001B[39;49m\u001B[43m]\u001B[49m\u001B[38;5;241m.\u001B[39mshape\n\u001B[0;32m      9\u001B[0m \u001B[38;5;28mprint\u001B[39m(\u001B[38;5;124m\"\u001B[39m\u001B[38;5;124mInput shape:\u001B[39m\u001B[38;5;124m\"\u001B[39m, input_shape)\n",
      "\u001B[1;31mKeyError\u001B[0m: 'input_1'"
     ]
    }
   ],
   "source": [
    "# Get the model's input signature\n",
    "print(model.signatures.keys())\n",
    "\n",
    "input_signature = model.signatures['call']\n",
    "print(input_signature)\n",
    "\n",
    "# Get the input shape\n",
    "input_shape = input_signature.structured_input_signature[1]['input_1'].shape\n",
    "print(\"Input shape:\", input_shape)"
   ],
   "metadata": {
    "collapsed": false,
    "pycharm": {
     "name": "#%%\n"
    }
   }
  },
  {
   "cell_type": "code",
   "execution_count": 14,
   "outputs": [
    {
     "name": "stdout",
     "output_type": "stream",
     "text": [
      "<tensorflow.python.saved_model.load.Loader._recreate_base_user_object.<locals>._UserObject object at 0x0000020AE8058610>\n"
     ]
    },
    {
     "ename": "AttributeError",
     "evalue": "'_UserObject' object has no attribute 'layers'",
     "output_type": "error",
     "traceback": [
      "\u001B[1;31m---------------------------------------------------------------------------\u001B[0m",
      "\u001B[1;31mAttributeError\u001B[0m                            Traceback (most recent call last)",
      "Cell \u001B[1;32mIn[14], line 2\u001B[0m\n\u001B[0;32m      1\u001B[0m \u001B[38;5;28mprint\u001B[39m(model)\n\u001B[1;32m----> 2\u001B[0m \u001B[38;5;28mprint\u001B[39m(\u001B[43mmodel\u001B[49m\u001B[38;5;241;43m.\u001B[39;49m\u001B[43mlayers\u001B[49m[\u001B[38;5;241m0\u001B[39m])\n\u001B[0;32m      3\u001B[0m \u001B[38;5;28mprint\u001B[39m(model\u001B[38;5;241m.\u001B[39mlayers[\u001B[38;5;241m0\u001B[39m]\u001B[38;5;241m.\u001B[39minput_shape)\n\u001B[0;32m      4\u001B[0m \u001B[38;5;66;03m#print(tf.keras.Model.summary(model, expand_nested=True))\u001B[39;00m\n",
      "\u001B[1;31mAttributeError\u001B[0m: '_UserObject' object has no attribute 'layers'"
     ]
    }
   ],
   "source": [
    "model = tf.saved_model.load(model_path)\n",
    "print(model)\n",
    "print(model.layers[0])\n",
    "print(model.layers[0].input_shape)\n",
    "#print(tf.keras.Model.summary(model, expand_nested=True))"
   ],
   "metadata": {
    "collapsed": false,
    "pycharm": {
     "name": "#%%\n"
    }
   }
  },
  {
   "cell_type": "code",
   "execution_count": null,
   "outputs": [],
   "source": [],
   "metadata": {
    "collapsed": false,
    "pycharm": {
     "name": "#%%\n"
    }
   }
  },
  {
   "cell_type": "code",
   "execution_count": 18,
   "outputs": [
    {
     "ename": "InvalidArgumentError",
     "evalue": "Feature: field1 (data type: string) is required but could not be found. [Op:ParseExampleV2]",
     "output_type": "error",
     "traceback": [
      "\u001B[1;31m---------------------------------------------------------------------------\u001B[0m",
      "\u001B[1;31mInvalidArgumentError\u001B[0m                      Traceback (most recent call last)",
      "Cell \u001B[1;32mIn[18], line 25\u001B[0m\n\u001B[0;32m     23\u001B[0m \u001B[38;5;66;03m# Iterate through the records and print the structure of the first record\u001B[39;00m\n\u001B[0;32m     24\u001B[0m \u001B[38;5;28;01mfor\u001B[39;00m raw_record \u001B[38;5;129;01min\u001B[39;00m dataset\u001B[38;5;241m.\u001B[39mtake(\u001B[38;5;241m1\u001B[39m):\n\u001B[1;32m---> 25\u001B[0m     example \u001B[38;5;241m=\u001B[39m \u001B[43mparse_example\u001B[49m\u001B[43m(\u001B[49m\u001B[43mraw_record\u001B[49m\u001B[43m)\u001B[49m\n\u001B[0;32m     26\u001B[0m     \u001B[38;5;28mprint\u001B[39m(\u001B[38;5;124m\"\u001B[39m\u001B[38;5;124mFields and shapes:\u001B[39m\u001B[38;5;124m\"\u001B[39m)\n\u001B[0;32m     27\u001B[0m     \u001B[38;5;28;01mfor\u001B[39;00m field, value \u001B[38;5;129;01min\u001B[39;00m example\u001B[38;5;241m.\u001B[39mitems():\n",
      "Cell \u001B[1;32mIn[18], line 19\u001B[0m, in \u001B[0;36mparse_example\u001B[1;34m(example_proto)\u001B[0m\n\u001B[0;32m     12\u001B[0m feature_spec \u001B[38;5;241m=\u001B[39m {\n\u001B[0;32m     13\u001B[0m     \u001B[38;5;124m'\u001B[39m\u001B[38;5;124mfield1\u001B[39m\u001B[38;5;124m'\u001B[39m: tf\u001B[38;5;241m.\u001B[39mio\u001B[38;5;241m.\u001B[39mFixedLenFeature([], tf\u001B[38;5;241m.\u001B[39mstring),\n\u001B[0;32m     14\u001B[0m     \u001B[38;5;124m'\u001B[39m\u001B[38;5;124mfield2\u001B[39m\u001B[38;5;124m'\u001B[39m: tf\u001B[38;5;241m.\u001B[39mio\u001B[38;5;241m.\u001B[39mFixedLenFeature([], tf\u001B[38;5;241m.\u001B[39mint64),\n\u001B[0;32m     15\u001B[0m     \u001B[38;5;66;03m# ... add other fields as needed\u001B[39;00m\n\u001B[0;32m     16\u001B[0m }\n\u001B[0;32m     18\u001B[0m \u001B[38;5;66;03m# Parse the example\u001B[39;00m\n\u001B[1;32m---> 19\u001B[0m parsed_example \u001B[38;5;241m=\u001B[39m \u001B[43mtf\u001B[49m\u001B[38;5;241;43m.\u001B[39;49m\u001B[43mio\u001B[49m\u001B[38;5;241;43m.\u001B[39;49m\u001B[43mparse_single_example\u001B[49m\u001B[43m(\u001B[49m\u001B[43mexample_proto\u001B[49m\u001B[43m,\u001B[49m\u001B[43m \u001B[49m\u001B[43mfeature_spec\u001B[49m\u001B[43m)\u001B[49m\n\u001B[0;32m     21\u001B[0m \u001B[38;5;28;01mreturn\u001B[39;00m parsed_example\n",
      "File \u001B[1;32me:\\code\\projects\\coursework\\ddsp-playground\\ddsp-playground-2\\lib\\site-packages\\tensorflow\\python\\util\\traceback_utils.py:153\u001B[0m, in \u001B[0;36mfilter_traceback.<locals>.error_handler\u001B[1;34m(*args, **kwargs)\u001B[0m\n\u001B[0;32m    151\u001B[0m \u001B[38;5;28;01mexcept\u001B[39;00m \u001B[38;5;167;01mException\u001B[39;00m \u001B[38;5;28;01mas\u001B[39;00m e:\n\u001B[0;32m    152\u001B[0m   filtered_tb \u001B[38;5;241m=\u001B[39m _process_traceback_frames(e\u001B[38;5;241m.\u001B[39m__traceback__)\n\u001B[1;32m--> 153\u001B[0m   \u001B[38;5;28;01mraise\u001B[39;00m e\u001B[38;5;241m.\u001B[39mwith_traceback(filtered_tb) \u001B[38;5;28;01mfrom\u001B[39;00m \u001B[38;5;28mNone\u001B[39m\n\u001B[0;32m    154\u001B[0m \u001B[38;5;28;01mfinally\u001B[39;00m:\n\u001B[0;32m    155\u001B[0m   \u001B[38;5;28;01mdel\u001B[39;00m filtered_tb\n",
      "File \u001B[1;32me:\\code\\projects\\coursework\\ddsp-playground\\ddsp-playground-2\\lib\\site-packages\\tensorflow\\python\\eager\\execute.py:54\u001B[0m, in \u001B[0;36mquick_execute\u001B[1;34m(op_name, num_outputs, inputs, attrs, ctx, name)\u001B[0m\n\u001B[0;32m     52\u001B[0m \u001B[38;5;28;01mtry\u001B[39;00m:\n\u001B[0;32m     53\u001B[0m   ctx\u001B[38;5;241m.\u001B[39mensure_initialized()\n\u001B[1;32m---> 54\u001B[0m   tensors \u001B[38;5;241m=\u001B[39m pywrap_tfe\u001B[38;5;241m.\u001B[39mTFE_Py_Execute(ctx\u001B[38;5;241m.\u001B[39m_handle, device_name, op_name,\n\u001B[0;32m     55\u001B[0m                                       inputs, attrs, num_outputs)\n\u001B[0;32m     56\u001B[0m \u001B[38;5;28;01mexcept\u001B[39;00m core\u001B[38;5;241m.\u001B[39m_NotOkStatusException \u001B[38;5;28;01mas\u001B[39;00m e:\n\u001B[0;32m     57\u001B[0m   \u001B[38;5;28;01mif\u001B[39;00m name \u001B[38;5;129;01mis\u001B[39;00m \u001B[38;5;129;01mnot\u001B[39;00m \u001B[38;5;28;01mNone\u001B[39;00m:\n",
      "\u001B[1;31mInvalidArgumentError\u001B[0m: Feature: field1 (data type: string) is required but could not be found. [Op:ParseExampleV2]"
     ]
    }
   ],
   "source": [
    "import tensorflow as tf\n",
    "\n",
    "# Replace with your TFRecord file path\n",
    "tfrecord_path = 'C:/Users/vovab/Downloads/train.tfrecord-00001-of-00010'\n",
    "\n",
    "# Create a TFRecordDataset to read the records\n",
    "dataset = tf.data.TFRecordDataset(tfrecord_path)\n",
    "\n",
    "# Function to parse a single example\n",
    "def parse_example(example_proto):\n",
    "    # Define the feature specification for your dataset\n",
    "    feature_spec = {\n",
    "        'field1': tf.io.FixedLenFeature([], tf.string),\n",
    "        'field2': tf.io.FixedLenFeature([], tf.int64),\n",
    "        # ... add other fields as needed\n",
    "    }\n",
    "\n",
    "    # Parse the example\n",
    "    parsed_example = tf.io.parse_single_example(example_proto, feature_spec)\n",
    "\n",
    "    return parsed_example\n",
    "\n",
    "# Iterate through the records and print the structure of the first record\n",
    "for raw_record in dataset.take(1):\n",
    "    example = parse_example(raw_record)\n",
    "    print(\"Fields and shapes:\")\n",
    "    for field, value in example.items():\n",
    "        print(f\"{field}: {value.shape}\")"
   ],
   "metadata": {
    "collapsed": false,
    "pycharm": {
     "name": "#%%\n"
    }
   }
  },
  {
   "cell_type": "code",
   "execution_count": null,
   "outputs": [],
   "source": [],
   "metadata": {
    "collapsed": false,
    "pycharm": {
     "name": "#%%\n"
    }
   }
  }
 ],
 "metadata": {
  "kernelspec": {
   "display_name": "Python 3",
   "language": "python",
   "name": "python3"
  },
  "language_info": {
   "codemirror_mode": {
    "name": "ipython",
    "version": 2
   },
   "file_extension": ".py",
   "mimetype": "text/x-python",
   "name": "python",
   "nbconvert_exporter": "python",
   "pygments_lexer": "ipython2",
   "version": "2.7.6"
  }
 },
 "nbformat": 4,
 "nbformat_minor": 0
}