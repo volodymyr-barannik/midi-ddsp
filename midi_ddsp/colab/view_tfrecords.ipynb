{
 "cells": [
  {
   "cell_type": "code",
   "execution_count": 6,
   "metadata": {
    "collapsed": true
   },
   "outputs": [
    {
     "name": "stdout",
     "output_type": "stream",
     "text": [
      "^C\n"
     ]
    }
   ],
   "source": [
    "!jupyter notebook --NotebookApp.iopub_data_rate_limit=1.0e10"
   ]
  },
  {
   "cell_type": "code",
   "execution_count": 1,
   "outputs": [
    {
     "name": "stderr",
     "output_type": "stream",
     "text": [
      "E:\\Code\\Projects\\TimbreTransfer\\midi-ddsp-main\\midi_ddsp\\midi_ddsp_synthesize.py:27: TqdmExperimentalWarning: Using `tqdm.autonotebook.tqdm` in notebook mode. Use `tqdm.tqdm` instead to force console mode (e.g. in jupyter console)\n",
      "  from tqdm.autonotebook import tqdm\n"
     ]
    },
    {
     "name": "stdout",
     "output_type": "stream",
     "text": [
      "E:/Code/Projects/TimbreTransfer/midi-ddsp-main/data/\n"
     ]
    }
   ],
   "source": [
    "from midi_ddsp.data_handling.get_dataset import get_dataset\n",
    "import tensorflow as tf\n",
    "from midi_ddsp.hparams_synthesis_generator import hparams_debug as hp\n",
    "\n",
    "print(hp.data_dir)\n",
    "\n",
    "training_data, length_training_data, evaluation_data, length_evaluation_data = get_dataset(hp, training_data_repeats=1)\n",
    "eval_sample_batch = next(iter(evaluation_data))\n",
    "train_sample_batch = next(iter(training_data))"
   ],
   "metadata": {
    "collapsed": false,
    "pycharm": {
     "name": "#%%\n"
    }
   }
  },
  {
   "cell_type": "code",
   "execution_count": 2,
   "outputs": [
    {
     "name": "stdout",
     "output_type": "stream",
     "text": [
      "type=<class 'dict'>\n"
     ]
    }
   ],
   "source": [
    "print(f\"type={type(train_sample_batch)}\")"
   ],
   "metadata": {
    "collapsed": false,
    "pycharm": {
     "name": "#%%\n"
    }
   }
  },
  {
   "cell_type": "code",
   "execution_count": 3,
   "outputs": [
    {
     "name": "stdout",
     "output_type": "stream",
     "text": [
      "audio: (4, 64000)\n",
      "f0_confidence: (4, 1000)\n",
      "f0_hz: (4, 1000, 1)\n",
      "instrument_id: (4,)\n",
      "loudness_db: (4, 1000, 1)\n",
      "note_active_frame_indices: (4, 1000, 128)\n",
      "note_active_velocities: (4, 1000, 128)\n",
      "note_offsets: (4, 128000)\n",
      "note_onsets: (4, 128000)\n",
      "power_db: (4, 1000)\n",
      "recording_id: (4,)\n",
      "midi: (4, 1000)\n",
      "onsets: (4, 1000)\n",
      "offsets: (4, 1000)\n"
     ]
    }
   ],
   "source": [
    "for k, v in train_sample_batch.items():\n",
    "    print(f\"{k}: {v.shape}\")"
   ],
   "metadata": {
    "collapsed": false,
    "pycharm": {
     "name": "#%%\n"
    }
   }
  },
  {
   "cell_type": "code",
   "execution_count": 4,
   "outputs": [
    {
     "name": "stdout",
     "output_type": "stream",
     "text": [
      "tf.Tensor(484, shape=(), dtype=int32)\n"
     ]
    }
   ],
   "source": [
    "num_items = training_data.reduce(0, lambda x, _: x + 1)\n",
    "\n",
    "print(num_items)"
   ],
   "metadata": {
    "collapsed": false,
    "pycharm": {
     "name": "#%%\n"
    }
   }
  },
  {
   "cell_type": "code",
   "execution_count": 1,
   "outputs": [
    {
     "name": "stdout",
     "output_type": "stream",
     "text": [
      "2.10.0\n"
     ]
    }
   ],
   "source": [
    "import tensorflow as tf\n",
    "print(tf.__version__)"
   ],
   "metadata": {
    "collapsed": false,
    "pycharm": {
     "name": "#%%\n"
    }
   }
  },
  {
   "cell_type": "code",
   "execution_count": null,
   "outputs": [],
   "source": [],
   "metadata": {
    "collapsed": false,
    "pycharm": {
     "name": "#%%\n"
    }
   }
  }
 ],
 "metadata": {
  "kernelspec": {
   "display_name": "Python 3",
   "language": "python",
   "name": "python3"
  },
  "language_info": {
   "codemirror_mode": {
    "name": "ipython",
    "version": 2
   },
   "file_extension": ".py",
   "mimetype": "text/x-python",
   "name": "python",
   "nbconvert_exporter": "python",
   "pygments_lexer": "ipython2",
   "version": "2.7.6"
  }
 },
 "nbformat": 4,
 "nbformat_minor": 0
}