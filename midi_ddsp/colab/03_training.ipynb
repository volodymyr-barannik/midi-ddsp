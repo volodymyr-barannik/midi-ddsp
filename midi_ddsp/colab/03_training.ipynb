{
 "cells": [
  {
   "cell_type": "code",
   "execution_count": 2,
   "outputs": [],
   "source": [
    "import tensorflow as tf\n",
    "import tensorflow_datasets as tfds\n",
    "import numpy as np\n",
    "import matplotlib.pyplot as plt"
   ],
   "metadata": {
    "collapsed": false,
    "pycharm": {
     "name": "#%%\n"
    }
   }
  },
  {
   "cell_type": "code",
   "execution_count": 1,
   "outputs": [
    {
     "data": {
      "text/plain": "[name: \"/device:CPU:0\"\n device_type: \"CPU\"\n memory_limit: 268435456\n locality {\n }\n incarnation: 4941135958159903733\n xla_global_id: -1,\n name: \"/device:GPU:0\"\n device_type: \"GPU\"\n memory_limit: 2915486926\n locality {\n   bus_id: 1\n   links {\n   }\n }\n incarnation: 11190019272960055277\n physical_device_desc: \"device: 0, name: NVIDIA GeForce GTX 1050 Ti, pci bus id: 0000:01:00.0, compute capability: 6.1\"\n xla_global_id: 416903419]"
     },
     "execution_count": 1,
     "metadata": {},
     "output_type": "execute_result"
    }
   ],
   "source": [
    "from tensorflow.python.client import device_lib\n",
    "\n",
    "device_lib.list_local_devices()"
   ],
   "metadata": {
    "collapsed": false,
    "pycharm": {
     "name": "#%%\n"
    }
   }
  },
  {
   "cell_type": "code",
   "execution_count": 3,
   "outputs": [
    {
     "ename": "ModuleNotFoundError",
     "evalue": "No module named 'ddsp'",
     "output_type": "error",
     "traceback": [
      "\u001B[1;31m---------------------------------------------------------------------------\u001B[0m",
      "\u001B[1;31mModuleNotFoundError\u001B[0m                       Traceback (most recent call last)",
      "Cell \u001B[1;32mIn[3], line 1\u001B[0m\n\u001B[1;32m----> 1\u001B[0m \u001B[38;5;28;01mfrom\u001B[39;00m \u001B[38;5;21;01mmidi_ddsp\u001B[39;00m\u001B[38;5;21;01m.\u001B[39;00m\u001B[38;5;21;01mhparams_synthesis_generator\u001B[39;00m \u001B[38;5;28;01mimport\u001B[39;00m hparams\n\u001B[0;32m      3\u001B[0m hp \u001B[38;5;241m=\u001B[39m hparams()\n",
      "File \u001B[1;32mE:\\Code\\Projects\\TimbreTransfer\\midi-ddsp-main\\midi_ddsp\\__init__.py:21\u001B[0m\n\u001B[0;32m     19\u001B[0m \u001B[38;5;28;01mfrom\u001B[39;00m \u001B[38;5;21;01mmidi_ddsp\u001B[39;00m \u001B[38;5;28;01mimport\u001B[39;00m modules\n\u001B[0;32m     20\u001B[0m \u001B[38;5;28;01mfrom\u001B[39;00m \u001B[38;5;21;01mmidi_ddsp\u001B[39;00m \u001B[38;5;28;01mimport\u001B[39;00m hparams_synthesis_generator\n\u001B[1;32m---> 21\u001B[0m \u001B[38;5;28;01mfrom\u001B[39;00m \u001B[38;5;21;01mmidi_ddsp\u001B[39;00m\u001B[38;5;21;01m.\u001B[39;00m\u001B[38;5;21;01mmidi_ddsp_synthesize\u001B[39;00m \u001B[38;5;28;01mimport\u001B[39;00m synthesize_midi, \\\n\u001B[0;32m     22\u001B[0m   load_pretrained_model\n",
      "File \u001B[1;32mE:\\Code\\Projects\\TimbreTransfer\\midi-ddsp-main\\midi_ddsp\\midi_ddsp_synthesize.py:32\u001B[0m\n\u001B[0;32m     27\u001B[0m \u001B[38;5;28;01mfrom\u001B[39;00m \u001B[38;5;21;01mtqdm\u001B[39;00m\u001B[38;5;21;01m.\u001B[39;00m\u001B[38;5;21;01mautonotebook\u001B[39;00m \u001B[38;5;28;01mimport\u001B[39;00m tqdm\n\u001B[0;32m     29\u001B[0m \u001B[38;5;28;01mfrom\u001B[39;00m \u001B[38;5;21;01mmidi_ddsp\u001B[39;00m\u001B[38;5;21;01m.\u001B[39;00m\u001B[38;5;21;01mdata_handling\u001B[39;00m\u001B[38;5;21;01m.\u001B[39;00m\u001B[38;5;21;01minstrument_name_utils\u001B[39;00m \u001B[38;5;28;01mimport\u001B[39;00m \\\n\u001B[0;32m     30\u001B[0m   INST_NAME_TO_MIDI_PROGRAM_DICT, MIDI_PROGRAM_TO_INST_ID_DICT, \\\n\u001B[0;32m     31\u001B[0m   MIDI_PROGRAM_TO_INST_NAME_DICT\n\u001B[1;32m---> 32\u001B[0m \u001B[38;5;28;01mfrom\u001B[39;00m \u001B[38;5;21;01mmidi_ddsp\u001B[39;00m\u001B[38;5;21;01m.\u001B[39;00m\u001B[38;5;21;01mutils\u001B[39;00m\u001B[38;5;21;01m.\u001B[39;00m\u001B[38;5;21;01mmidi_synthesis_utils\u001B[39;00m \u001B[38;5;28;01mimport\u001B[39;00m note_list_to_sequence, \\\n\u001B[0;32m     33\u001B[0m   expression_generator_output_to_conditioning_df, batch_conditioning_df_to_audio\n\u001B[0;32m     34\u001B[0m \u001B[38;5;28;01mfrom\u001B[39;00m \u001B[38;5;21;01mmidi_ddsp\u001B[39;00m\u001B[38;5;21;01m.\u001B[39;00m\u001B[38;5;21;01mutils\u001B[39;00m\u001B[38;5;21;01m.\u001B[39;00m\u001B[38;5;21;01maudio_io\u001B[39;00m \u001B[38;5;28;01mimport\u001B[39;00m save_wav\n\u001B[0;32m     35\u001B[0m \u001B[38;5;28;01mfrom\u001B[39;00m \u001B[38;5;21;01mmidi_ddsp\u001B[39;00m\u001B[38;5;21;01m.\u001B[39;00m\u001B[38;5;21;01mutils\u001B[39;00m\u001B[38;5;21;01m.\u001B[39;00m\u001B[38;5;21;01mtraining_utils\u001B[39;00m \u001B[38;5;28;01mimport\u001B[39;00m get_hp\n",
      "File \u001B[1;32mE:\\Code\\Projects\\TimbreTransfer\\midi-ddsp-main\\midi_ddsp\\utils\\midi_synthesis_utils.py:21\u001B[0m\n\u001B[0;32m      1\u001B[0m \u001B[38;5;124;03m\"\"\"Utility functions for synthesizing MIDI.\"\"\"\u001B[39;00m\n\u001B[0;32m      3\u001B[0m \u001B[38;5;66;03m#  Copyright 2021 The DDSP Authors.\u001B[39;00m\n\u001B[0;32m      4\u001B[0m \u001B[38;5;66;03m#  #\u001B[39;00m\n\u001B[0;32m      5\u001B[0m \u001B[38;5;66;03m#  Licensed under the Apache License, Version 2.0 (the \"License\");\u001B[39;00m\n\u001B[1;32m   (...)\u001B[0m\n\u001B[0;32m     18\u001B[0m \u001B[38;5;66;03m#\u001B[39;00m\n\u001B[0;32m     19\u001B[0m \u001B[38;5;66;03m#  Lint as: python3\u001B[39;00m\n\u001B[1;32m---> 21\u001B[0m \u001B[38;5;28;01mimport\u001B[39;00m \u001B[38;5;21;01mddsp\u001B[39;00m\u001B[38;5;21;01m.\u001B[39;00m\u001B[38;5;21;01mcore\u001B[39;00m\n\u001B[0;32m     22\u001B[0m \u001B[38;5;28;01mimport\u001B[39;00m \u001B[38;5;21;01mpretty_midi\u001B[39;00m\n\u001B[0;32m     23\u001B[0m \u001B[38;5;28;01mimport\u001B[39;00m \u001B[38;5;21;01mnumpy\u001B[39;00m \u001B[38;5;28;01mas\u001B[39;00m \u001B[38;5;21;01mnp\u001B[39;00m\n",
      "\u001B[1;31mModuleNotFoundError\u001B[0m: No module named 'ddsp'"
     ]
    }
   ],
   "source": [
    "from midi_ddsp.hparams_synthesis_generator import hparams\n",
    "\n",
    "hp = hparams()"
   ],
   "metadata": {
    "collapsed": false,
    "pycharm": {
     "name": "#%%\n"
    }
   }
  },
  {
   "cell_type": "code",
   "execution_count": null,
   "outputs": [],
   "source": [
    "from midi_ddsp.modules.model import SynthCoder\n",
    "from midi_ddsp.modules.ddsp_inference import Cnn8, MelF0LDEncoder, FCHarmonicDecoder\n",
    "\n",
    "cnn = Cnn8(pool_size=(1, 2))\n",
    "encoder = MelF0LDEncoder(cnn, hp.nhid, hp.sample_rate, hp.win_length,\n",
    "                     hp.hop_length, hp.n_fft, hp.num_mels,\n",
    "                     hp.fmin)\n",
    "decoder = FCHarmonicDecoder(hp.nhramonic, hp.nnoise)\n",
    "use_f0_ld = False\n",
    "synth_coder = SynthCoder(encoder, decoder)"
   ],
   "metadata": {
    "collapsed": false,
    "pycharm": {
     "name": "#%%\n"
    }
   }
  },
  {
   "cell_type": "code",
   "execution_count": null,
   "outputs": [],
   "source": [],
   "metadata": {
    "collapsed": false,
    "pycharm": {
     "name": "#%%\n"
    }
   }
  }
 ],
 "metadata": {
  "kernelspec": {
   "display_name": "Python 3",
   "language": "python",
   "name": "python3"
  },
  "language_info": {
   "codemirror_mode": {
    "name": "ipython",
    "version": 2
   },
   "file_extension": ".py",
   "mimetype": "text/x-python",
   "name": "python",
   "nbconvert_exporter": "python",
   "pygments_lexer": "ipython2",
   "version": "2.7.6"
  }
 },
 "nbformat": 4,
 "nbformat_minor": 0
}