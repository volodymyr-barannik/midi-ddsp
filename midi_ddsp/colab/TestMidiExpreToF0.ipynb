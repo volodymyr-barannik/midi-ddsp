{
 "cells": [
  {
   "cell_type": "code",
   "execution_count": null,
   "metadata": {
    "collapsed": true
   },
   "outputs": [],
   "source": [
    "from midi_ddsp.modules.synth_params_decoder import MidiExpreToF0AutoregDecoder\n",
    "\n",
    "q_shape = (3, 1000, 1)\n",
    "z_midi_decoder_shape = (3, 1000, 256)\n",
    "\n",
    "conditioning_dict_shapes = {\n",
    "    'volume':       (3, 1000, 1),\n",
    "    'vol_fluc':     (3, 1000, 1),\n",
    "    'vibrato':      (3, 1000, 1),\n",
    "    'brightness':   (3, 1000, 1),\n",
    "    'attack':       (3, 1000, 1),\n",
    "    'vol_peak_pos': (3, 1000, 1),\n",
    "}\n",
    "\n",
    "out_shapes = {\n",
    "    'f0_hz':                    (3, 1000, 1),\n",
    "    'amplitudes':               (3, 1000, 1),\n",
    "    'harmonic_distribution':    (3, 1000, 60),\n",
    "    'noise_magnitudes':         (3, 1000, 65),\n",
    "}\n",
    "\n",
    "q = tf.random.uniform(q_shape)\n",
    "z_midi_decoder = tf.random.uniform(z_midi_decoder_shape)\n",
    "\n",
    "conditioning_dict = {key: tf.random.uniform(shape) for key, shape in conditioning_dict_shapes.items()}\n",
    "out = {key: tf.random.uniform(shape) for key, shape in out_shapes.items()}\n",
    "\n",
    "\n",
    "model_expre = MidiExpreToF0AutoregDecoder()\n",
    "\n",
    "model_expre(q, z_midi_decoder, conditioning_dict, out, training=False)\n",
    "\n",
    "model_expre.summary()\n",
    "\n",
    "model_expre.save('MidiExpreToF0AutoregDecoder')"
   ]
  }
 ],
 "metadata": {
  "kernelspec": {
   "display_name": "Python 3",
   "language": "python",
   "name": "python3"
  },
  "language_info": {
   "codemirror_mode": {
    "name": "ipython",
    "version": 2
   },
   "file_extension": ".py",
   "mimetype": "text/x-python",
   "name": "python",
   "nbconvert_exporter": "python",
   "pygments_lexer": "ipython2",
   "version": "2.7.6"
  }
 },
 "nbformat": 4,
 "nbformat_minor": 0
}