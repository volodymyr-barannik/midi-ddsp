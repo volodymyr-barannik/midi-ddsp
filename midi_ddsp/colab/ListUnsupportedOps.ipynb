{
 "cells": [
  {
   "cell_type": "code",
   "execution_count": 1,
   "metadata": {
    "collapsed": true
   },
   "outputs": [],
   "source": [
    "import flatbuffers"
   ]
  },
  {
   "cell_type": "code",
   "execution_count": 8,
   "outputs": [
    {
     "name": "stdout",
     "output_type": "stream",
     "text": [
      "Unsupported operations:\n",
      "- Unknown custom op at index 7\n"
     ]
    }
   ],
   "source": [
    "import sys\n",
    "from tflite import Model\n",
    "\n",
    "def main(model_path):\n",
    "    with open(model_path, 'rb') as f:\n",
    "        buffer_data = f.read()\n",
    "\n",
    "    model = Model.GetRootAsModel(buffer_data, 0)\n",
    "    opcodes = [model.OperatorCodes(i) for i in range(model.OperatorCodesLength())]\n",
    "\n",
    "    unsupported_ops = set()\n",
    "\n",
    "    for subgraph in range(model.SubgraphsLength()):\n",
    "        subgraph_obj = model.Subgraphs(subgraph)\n",
    "\n",
    "        for op_idx in range(subgraph_obj.OperatorsLength()):\n",
    "            op_obj = subgraph_obj.Operators(op_idx)\n",
    "            opcode_index = op_obj.OpcodeIndex()\n",
    "            opcode = opcodes[opcode_index]\n",
    "\n",
    "            if opcode.BuiltinCode() == 0:  # BuiltinCode 0 means it's a custom operation\n",
    "                custom_op_name = opcode.CustomCode()\n",
    "                if custom_op_name:\n",
    "                    unsupported_ops.add(custom_op_name.decode('utf-8'))\n",
    "                else:\n",
    "                    unsupported_ops.add(f\"Unknown custom op at index {opcode_index}\")\n",
    "\n",
    "    print(\"Unsupported operations:\")\n",
    "    for op in unsupported_ops:\n",
    "        print(f\"- {op}\")\n",
    "\n",
    "main(model_path='tflite_tests/heylol_midi.tflite')"
   ],
   "metadata": {
    "collapsed": false,
    "pycharm": {
     "name": "#%%\n"
    }
   }
  },
  {
   "cell_type": "code",
   "execution_count": null,
   "outputs": [],
   "source": [],
   "metadata": {
    "collapsed": false,
    "pycharm": {
     "name": "#%%\n"
    }
   }
  }
 ],
 "metadata": {
  "kernelspec": {
   "display_name": "Python 3",
   "language": "python",
   "name": "python3"
  },
  "language_info": {
   "codemirror_mode": {
    "name": "ipython",
    "version": 2
   },
   "file_extension": ".py",
   "mimetype": "text/x-python",
   "name": "python",
   "nbconvert_exporter": "python",
   "pygments_lexer": "ipython2",
   "version": "2.7.6"
  }
 },
 "nbformat": 4,
 "nbformat_minor": 0
}