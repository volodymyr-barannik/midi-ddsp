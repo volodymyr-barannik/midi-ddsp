{
 "cells": [
  {
   "cell_type": "code",
   "execution_count": 2,
   "outputs": [],
   "source": [
    "def print_dict(d):\n",
    "    for k, v in d.items():\n",
    "        print(f\"\\t'{k}': {v}\")\n",
    "\n",
    "def print_dict2(d):\n",
    "    l = 0\n",
    "    for detail in d:\n",
    "        print()\n",
    "        print(f'item #{l}:')\n",
    "        l = l + 1\n",
    "\n",
    "        i = 0\n",
    "        for k, v in detail.items():\n",
    "            if i == 0:\n",
    "                print(f\"\\t'{k}': {v}\")\n",
    "            else:\n",
    "                print(f\"\\t\\t'{k}': {v}\")"
   ],
   "metadata": {
    "collapsed": false,
    "pycharm": {
     "name": "#%%\n"
    }
   }
  },
  {
   "cell_type": "code",
   "execution_count": 1,
   "outputs": [],
   "source": [
    "# !pip install git+https://github.com/datapplab/sparsenet"
   ],
   "metadata": {
    "collapsed": false,
    "pycharm": {
     "name": "#%%\n"
    }
   }
  },
  {
   "cell_type": "code",
   "execution_count": 3,
   "metadata": {
    "collapsed": true
   },
   "outputs": [
    {
     "name": "stdout",
     "output_type": "stream",
     "text": [
      "2.9.3\n",
      "e:\\code\\projects\\timbretransfer\\midi-ddsp-main\\venv\\lib\\site-packages\\sparsenet\\__init__.py\n",
      "e:\\code\\projects\\timbretransfer\\midi-ddsp-main\\venv\\lib\\site-packages\\sparsenet\\core.py\n"
     ]
    }
   ],
   "source": [
    "import sparsenet\n",
    "from sparsenet.core import sparse\n",
    "import tensorflow as tf\n",
    "\n",
    "print(tf.__version__)\n",
    "print(sparsenet.__file__)\n",
    "print(sparsenet.core.__file__)"
   ]
  },
  {
   "cell_type": "code",
   "execution_count": 4,
   "outputs": [],
   "source": [
    "#!pip install tensorflow==2.12.0"
   ],
   "metadata": {
    "collapsed": false,
    "pycharm": {
     "name": "#%%\n"
    }
   }
  },
  {
   "cell_type": "code",
   "execution_count": 5,
   "outputs": [],
   "source": [
    "mnist = tf.keras.datasets.mnist\n",
    "\n",
    "(x_train, y_train), (x_test, y_test) = mnist.load_data()\n",
    "x_train, x_test = x_train / 255.0, x_test / 255.0"
   ],
   "metadata": {
    "collapsed": false,
    "pycharm": {
     "name": "#%%\n"
    }
   }
  },
  {
   "cell_type": "code",
   "execution_count": 20,
   "outputs": [
    {
     "data": {
      "text/html": "        <script type=\"text/javascript\">\n        window.PlotlyConfig = {MathJaxConfig: 'local'};\n        if (window.MathJax && window.MathJax.Hub && window.MathJax.Hub.Config) {window.MathJax.Hub.Config({SVG: {font: \"STIX-Web\"}});}\n        if (typeof require !== 'undefined') {\n        require.undef(\"plotly\");\n        requirejs.config({\n            paths: {\n                'plotly': ['https://cdn.plot.ly/plotly-2.20.0.min']\n            }\n        });\n        require(['plotly'], function(Plotly) {\n            window._Plotly = Plotly;\n        });\n        }\n        </script>\n        "
     },
     "metadata": {},
     "output_type": "display_data"
    }
   ],
   "source": [
    "import numpy as np\n",
    "import plotly.graph_objs as go\n",
    "\n",
    "import plotly.offline as pyo\n",
    "pyo.init_notebook_mode(connected=True)\n",
    "\n",
    "def draw_image(image_array: np.ndarray):\n",
    "    if image_array.shape != (28, 28):\n",
    "        raise ValueError(\"Expected a 28x28 NumPy array.\")\n",
    "\n",
    "    fig = px.imshow(image_array, color_continuous_scale='gray', origin='lower')\n",
    "    fig.update_xaxes(showticklabels=False)\n",
    "    fig.update_yaxes(showticklabels=False)\n",
    "    fig.update_layout(coloraxis_showscale=False)\n",
    "\n",
    "    pyo.plot(fig)"
   ],
   "metadata": {
    "collapsed": false,
    "pycharm": {
     "name": "#%%\n"
    }
   }
  },
  {
   "cell_type": "code",
   "execution_count": 21,
   "outputs": [],
   "source": [
    "draw_image(x_train[0])"
   ],
   "metadata": {
    "collapsed": false,
    "pycharm": {
     "name": "#%%\n"
    }
   }
  },
  {
   "cell_type": "code",
   "execution_count": 22,
   "outputs": [
    {
     "name": "stdout",
     "output_type": "stream",
     "text": [
      "weight_type used:  1\n",
      "Epoch 1/5\n"
     ]
    },
    {
     "name": "stderr",
     "output_type": "stream",
     "text": [
      "e:\\code\\projects\\timbretransfer\\midi-ddsp-main\\venv\\lib\\site-packages\\keras\\optimizers\\optimizer_v2\\nadam.py:78: UserWarning:\n",
      "\n",
      "The `lr` argument is deprecated, use `learning_rate` instead.\n",
      "\n"
     ]
    },
    {
     "name": "stdout",
     "output_type": "stream",
     "text": [
      "188/188 [==============================] - 5s 17ms/step - loss: 0.7076 - accuracy: 0.8414 - val_loss: 0.3700 - val_accuracy: 0.9036\n",
      "Epoch 2/5\n",
      "188/188 [==============================] - 3s 15ms/step - loss: 0.3095 - accuracy: 0.9160 - val_loss: 0.3081 - val_accuracy: 0.9144\n",
      "Epoch 3/5\n",
      "188/188 [==============================] - 2s 13ms/step - loss: 0.2536 - accuracy: 0.9308 - val_loss: 0.2835 - val_accuracy: 0.9163\n",
      "Epoch 4/5\n",
      "188/188 [==============================] - 3s 14ms/step - loss: 0.2171 - accuracy: 0.9388 - val_loss: 0.2551 - val_accuracy: 0.9253\n",
      "Epoch 5/5\n",
      "188/188 [==============================] - 3s 17ms/step - loss: 0.1884 - accuracy: 0.9467 - val_loss: 0.2368 - val_accuracy: 0.9299\n"
     ]
    },
    {
     "data": {
      "text/plain": "<keras.callbacks.History at 0x22a9dd0fc10>"
     },
     "execution_count": 22,
     "metadata": {},
     "output_type": "execute_result"
    }
   ],
   "source": [
    "import gc\n",
    "\n",
    "tf.keras.backend.clear_session()\n",
    "gc.collect()\n",
    "\n",
    "nunits=250\n",
    "dens=0.3\n",
    "model = tf.keras.models.Sequential([\n",
    "  tf.keras.layers.Flatten(input_shape=(28, 28)),\n",
    "  # tf.keras.layers.Dense(nunits, activation=\"relu\"),\n",
    "  sparse(units=nunits, density=dens, activation=\"relu\"),\n",
    "  tf.keras.layers.Dense(10, activation='softmax')\n",
    "])\n",
    "\n",
    "lr=1e-3\n",
    "optimizer = tf.keras.optimizers.Nadam(lr =lr)\n",
    "model.compile(optimizer=optimizer,\n",
    "              loss='sparse_categorical_crossentropy',\n",
    "              metrics=['accuracy'])\n",
    "\n",
    "ns=12000\n",
    "model.fit(x_train[:ns], y_train[:ns], epochs=5, batch_size=64,\n",
    "          validation_data=(x_test[:ns], y_test[:ns]))"
   ],
   "metadata": {
    "collapsed": false,
    "pycharm": {
     "name": "#%%\n"
    }
   }
  },
  {
   "cell_type": "code",
   "execution_count": 23,
   "outputs": [
    {
     "name": "stdout",
     "output_type": "stream",
     "text": [
      "Model: \"sequential\"\n",
      "_________________________________________________________________\n",
      " Layer (type)                Output Shape              Param #   \n",
      "=================================================================\n",
      " flatten (Flatten)           (None, 784)               0         \n",
      "                                                                 \n",
      " module_wrapper (ModuleWrapp  (None, 250)              59050     \n",
      " er)                                                             \n",
      "                                                                 \n",
      " dense (Dense)               (None, 10)                2510      \n",
      "                                                                 \n",
      "=================================================================\n",
      "Total params: 61,560\n",
      "Trainable params: 61,560\n",
      "Non-trainable params: 0\n",
      "_________________________________________________________________\n"
     ]
    }
   ],
   "source": [
    "model.summary()"
   ],
   "metadata": {
    "collapsed": false,
    "pycharm": {
     "name": "#%%\n"
    }
   }
  },
  {
   "cell_type": "code",
   "execution_count": 23,
   "outputs": [],
   "source": [],
   "metadata": {
    "collapsed": false,
    "pycharm": {
     "name": "#%%\n"
    }
   }
  },
  {
   "cell_type": "code",
   "execution_count": 26,
   "outputs": [
    {
     "name": "stdout",
     "output_type": "stream",
     "text": [
      "starting conversion..\n"
     ]
    },
    {
     "name": "stderr",
     "output_type": "stream",
     "text": [
      "WARNING:absl:Found untraced functions such as sparse_layer_call_fn, sparse_layer_call_and_return_conditional_losses while saving (showing 2 of 2). These functions will not be directly callable after loading.\n"
     ]
    },
    {
     "name": "stdout",
     "output_type": "stream",
     "text": [
      "INFO:tensorflow:Assets written to: C:\\Users\\vovab\\AppData\\Local\\Temp\\tmpk773n58g\\assets\n"
     ]
    },
    {
     "name": "stderr",
     "output_type": "stream",
     "text": [
      "INFO:tensorflow:Assets written to: C:\\Users\\vovab\\AppData\\Local\\Temp\\tmpk773n58g\\assets\n"
     ]
    },
    {
     "name": "stdout",
     "output_type": "stream",
     "text": [
      "conversion finished\n",
      "tflite model saved\n"
     ]
    }
   ],
   "source": [
    "converter = tf.lite.TFLiteConverter.from_keras_model(model)\n",
    "\n",
    "#model.run_without_synths = True\n",
    "#model.run_synth_coder_only = True\n",
    "\n",
    "#converter = tf.lite.TFLiteConverter.from_keras_model(model_vst)\n",
    "\n",
    "#converter.optimizations = [tf.lite.Optimize.DEFAULT]\n",
    "converter.target_spec.supported_ops = [tf.lite.OpsSet.EXPERIMENTAL_TFLITE_BUILTINS_ACTIVATIONS_INT16_WEIGHTS_INT8, tf.lite.OpsSet.TFLITE_BUILTINS,tf.lite.OpsSet.SELECT_TF_OPS ]\n",
    "\n",
    "print('starting conversion..')\n",
    "tflite_model = converter.convert()\n",
    "print('conversion finished')\n",
    "\n",
    "import pathlib\n",
    "\n",
    "tflite_model_path=f'simple_usn.tflite'\n",
    "tflite_model_file = pathlib.Path(tflite_model_path)\n",
    "tflite_model_file.write_bytes(tflite_model)\n",
    "print(f'tflite model saved')"
   ],
   "metadata": {
    "collapsed": false,
    "pycharm": {
     "name": "#%%\n"
    }
   }
  },
  {
   "cell_type": "code",
   "execution_count": 27,
   "outputs": [],
   "source": [
    "def load_tflite_model(model_path):\n",
    "    interpreter = tf.lite.Interpreter(model_path=model_path)\n",
    "\n",
    "    input_details = interpreter.get_input_details()\n",
    "    #print(f\"input_details={[detail['name'] for detail in input_details]}\")\n",
    "    print(f\"\\n\\n Inputs (len={len(input_details)}):\")\n",
    "    #print(input_details)\n",
    "    print_dict2(input_details)\n",
    "\n",
    "    output_details = interpreter.get_output_details()\n",
    "    print(f\"\\n\\n Outputs (len={len(output_details)}):\")\n",
    "    print_dict2(output_details)\n",
    "\n",
    "    return interpreter, input_details, output_details"
   ],
   "metadata": {
    "collapsed": false,
    "pycharm": {
     "name": "#%%\n"
    }
   }
  },
  {
   "cell_type": "code",
   "execution_count": 28,
   "outputs": [],
   "source": [
    "def run_tflite_inference(interpreter, inputs):\n",
    "\n",
    "    input_details = interpreter.get_input_details()\n",
    "    output_details = interpreter.get_output_details()\n",
    "\n",
    "    def set_inputs_for_tflite(interpreter, interpreter_input):\n",
    "        interpreter.set_tensor(0, tf.cast(interpreter_input, input_details[0]['dtype']))\n",
    "\n",
    "    def get_outputs_from_tflite(interpreter):\n",
    "        out_tensor = interpreter.get_tensor(output_details[0]['index'])\n",
    "        return out_tensor\n",
    "\n",
    "    interpreter.allocate_tensors()\n",
    "\n",
    "    set_inputs_for_tflite(interpreter=interpreter, interpreter_input=inputs)\n",
    "\n",
    "    interpreter.invoke()\n",
    "\n",
    "    tflite_synth_params = get_outputs_from_tflite(interpreter)\n",
    "\n",
    "    return tflite_synth_params"
   ],
   "metadata": {
    "collapsed": false,
    "pycharm": {
     "name": "#%%\n"
    }
   }
  },
  {
   "cell_type": "code",
   "execution_count": 29,
   "outputs": [
    {
     "name": "stdout",
     "output_type": "stream",
     "text": [
      "\n",
      "\n",
      " Inputs (len=1):\n",
      "\n",
      "item #0:\n",
      "\t'name': serving_default_flatten_input:0\n",
      "\t'index': 0\n",
      "\t'shape': [ 1 28 28]\n",
      "\t'shape_signature': [-1 28 28]\n",
      "\t'dtype': <class 'numpy.float32'>\n",
      "\t'quantization': (0.0, 0)\n",
      "\t'quantization_parameters': {'scales': array([], dtype=float32), 'zero_points': array([], dtype=int32), 'quantized_dimension': 0}\n",
      "\t'sparsity_parameters': {}\n",
      "\n",
      "\n",
      " Outputs (len=1):\n",
      "\n",
      "item #0:\n",
      "\t'name': StatefulPartitionedCall:0\n",
      "\t'index': 15\n",
      "\t'shape': [ 1 10]\n",
      "\t'shape_signature': [-1 10]\n",
      "\t'dtype': <class 'numpy.float32'>\n",
      "\t'quantization': (0.0, 0)\n",
      "\t'quantization_parameters': {'scales': array([], dtype=float32), 'zero_points': array([], dtype=int32), 'quantized_dimension': 0}\n",
      "\t'sparsity_parameters': {}\n"
     ]
    }
   ],
   "source": [
    "interpreter, input_details, output_details = load_tflite_model(tflite_model_path)"
   ],
   "metadata": {
    "collapsed": false,
    "pycharm": {
     "name": "#%%\n"
    }
   }
  },
  {
   "cell_type": "code",
   "execution_count": 29,
   "outputs": [],
   "source": [],
   "metadata": {
    "collapsed": false,
    "pycharm": {
     "name": "#%%\n"
    }
   }
  },
  {
   "cell_type": "code",
   "execution_count": 30,
   "outputs": [],
   "source": [
    "example_input = tf.convert_to_tensor(next(iter(x_train), 4))\n",
    "example_input = tf.expand_dims(example_input, axis=0)"
   ],
   "metadata": {
    "collapsed": false,
    "pycharm": {
     "name": "#%%\n"
    }
   }
  },
  {
   "cell_type": "code",
   "execution_count": 31,
   "outputs": [],
   "source": [
    "model_output = model(example_input)\n",
    "outputs = run_tflite_inference(interpreter=interpreter, inputs=example_input)"
   ],
   "metadata": {
    "collapsed": false,
    "pycharm": {
     "name": "#%%\n"
    }
   }
  },
  {
   "cell_type": "code",
   "execution_count": 32,
   "outputs": [
    {
     "name": "stdout",
     "output_type": "stream",
     "text": [
      "[[1.6304839e-04 1.0071705e-05 1.3168039e-03 1.5584876e-01 5.0415707e-07\n",
      "  8.4112340e-01 5.0295603e-05 6.7090325e-04 3.6519032e-04 4.5108856e-04]]\n",
      "tf.Tensor(\n",
      "[[1.6304823e-04 1.0071715e-05 1.3168034e-03 1.5584862e-01 5.0415753e-07\n",
      "  8.4112340e-01 5.0295654e-05 6.7090261e-04 3.6518983e-04 4.5108839e-04]], shape=(1, 10), dtype=float32)\n"
     ]
    }
   ],
   "source": [
    "print(outputs)\n",
    "print(model_output)"
   ],
   "metadata": {
    "collapsed": false,
    "pycharm": {
     "name": "#%%\n"
    }
   }
  },
  {
   "cell_type": "code",
   "execution_count": null,
   "outputs": [],
   "source": [],
   "metadata": {
    "collapsed": false,
    "pycharm": {
     "name": "#%%\n"
    }
   }
  }
 ],
 "metadata": {
  "kernelspec": {
   "display_name": "Python 3",
   "language": "python",
   "name": "python3"
  },
  "language_info": {
   "codemirror_mode": {
    "name": "ipython",
    "version": 2
   },
   "file_extension": ".py",
   "mimetype": "text/x-python",
   "name": "python",
   "nbconvert_exporter": "python",
   "pygments_lexer": "ipython2",
   "version": "2.7.6"
  }
 },
 "nbformat": 4,
 "nbformat_minor": 0
}